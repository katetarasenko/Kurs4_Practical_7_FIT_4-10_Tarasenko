{
  "nbformat": 4,
  "nbformat_minor": 0,
  "metadata": {
    "colab": {
      "provenance": [],
      "authorship_tag": "ABX9TyOUtAUPK5kyLTGOPj1iOUGv",
      "include_colab_link": true
    },
    "kernelspec": {
      "name": "python3",
      "display_name": "Python 3"
    },
    "language_info": {
      "name": "python"
    }
  },
  "cells": [
    {
      "cell_type": "markdown",
      "metadata": {
        "id": "view-in-github",
        "colab_type": "text"
      },
      "source": [
        "<a href=\"https://colab.research.google.com/github/katetarasenko/Kurs4_Practical_7_FIT_4-10_Tarasenko/blob/main/Practical7_FIT_4_10_Tarasenko.ipynb\" target=\"_parent\"><img src=\"https://colab.research.google.com/assets/colab-badge.svg\" alt=\"Open In Colab\"/></a>"
      ]
    },
    {
      "cell_type": "code",
      "source": [
        "!pip install scikit-surprise"
      ],
      "metadata": {
        "colab": {
          "base_uri": "https://localhost:8080/"
        },
        "id": "MT1YLNktcHS_",
        "outputId": "6e099715-4a05-4f57-fbb4-c92dc2210495"
      },
      "execution_count": 5,
      "outputs": [
        {
          "output_type": "stream",
          "name": "stdout",
          "text": [
            "Collecting scikit-surprise\n",
            "  Using cached scikit_surprise-1.1.4.tar.gz (154 kB)\n",
            "  Installing build dependencies ... \u001b[?25l\u001b[?25hdone\n",
            "  Getting requirements to build wheel ... \u001b[?25l\u001b[?25hdone\n",
            "  Preparing metadata (pyproject.toml) ... \u001b[?25l\u001b[?25hdone\n",
            "Requirement already satisfied: joblib>=1.2.0 in /usr/local/lib/python3.10/dist-packages (from scikit-surprise) (1.4.2)\n",
            "Requirement already satisfied: numpy>=1.19.5 in /usr/local/lib/python3.10/dist-packages (from scikit-surprise) (1.26.4)\n",
            "Requirement already satisfied: scipy>=1.6.0 in /usr/local/lib/python3.10/dist-packages (from scikit-surprise) (1.13.1)\n",
            "Building wheels for collected packages: scikit-surprise\n",
            "  Building wheel for scikit-surprise (pyproject.toml) ... \u001b[?25l\u001b[?25hdone\n",
            "  Created wheel for scikit-surprise: filename=scikit_surprise-1.1.4-cp310-cp310-linux_x86_64.whl size=2357280 sha256=aa8da22a50dcb50d551e6833da066f822727d74516b738facf298ed3091819f0\n",
            "  Stored in directory: /root/.cache/pip/wheels/4b/3f/df/6acbf0a40397d9bf3ff97f582cc22fb9ce66adde75bc71fd54\n",
            "Successfully built scikit-surprise\n",
            "Installing collected packages: scikit-surprise\n",
            "Successfully installed scikit-surprise-1.1.4\n"
          ]
        }
      ]
    },
    {
      "cell_type": "code",
      "source": [
        "from surprise import Dataset\n",
        "from surprise import Reader\n",
        "import pandas as pd\n",
        "\n",
        "# Завантаження датасету MovieLens 100k\n",
        "data = Dataset.load_builtin('ml-100k')\n",
        "\n",
        "# Створення pandas DataFrame для виводу перших 5 рядків\n",
        "df = pd.DataFrame(data.raw_ratings, columns=['user', 'item', 'rating', 'timestamp'])\n",
        "print(df.head(5))"
      ],
      "metadata": {
        "colab": {
          "base_uri": "https://localhost:8080/"
        },
        "id": "EVv1Dx1Yc0A3",
        "outputId": "d5c8d9a5-24fc-4510-93cc-bdf13907cdb8"
      },
      "execution_count": 7,
      "outputs": [
        {
          "output_type": "stream",
          "name": "stdout",
          "text": [
            "Dataset ml-100k could not be found. Do you want to download it? [Y/n] Y\n",
            "Trying to download dataset from https://files.grouplens.org/datasets/movielens/ml-100k.zip...\n",
            "Done! Dataset ml-100k has been saved to /root/.surprise_data/ml-100k\n",
            "  user item  rating  timestamp\n",
            "0  196  242     3.0  881250949\n",
            "1  186  302     3.0  891717742\n",
            "2   22  377     1.0  878887116\n",
            "3  244   51     2.0  880606923\n",
            "4  166  346     1.0  886397596\n"
          ]
        }
      ]
    },
    {
      "cell_type": "markdown",
      "source": [
        "KNN and SVD algorythms"
      ],
      "metadata": {
        "id": "v5FBdZtF4SHs"
      }
    },
    {
      "cell_type": "code",
      "source": [
        "from surprise import SVD, KNNBasic\n",
        "from surprise.model_selection import cross_validate\n",
        "\n",
        "\n",
        "algo_svd = SVD()\n",
        "\n",
        "algo_knn = KNNBasic()\n",
        "\n",
        "# Крос-валідація для SVD\n",
        "cv_svd = cross_validate(algo_svd, data, measures=['MAE'], cv=5, verbose=True)\n",
        "# Крос-валідація для KNN\n",
        "cv_knn = cross_validate(algo_knn, data, measures=['MAE'], cv=5, verbose=True)"
      ],
      "metadata": {
        "colab": {
          "base_uri": "https://localhost:8080/"
        },
        "id": "rY7x7Jy9dA-a",
        "outputId": "02ca43ec-6eda-40ae-ce6a-8cda44189010"
      },
      "execution_count": 8,
      "outputs": [
        {
          "output_type": "stream",
          "name": "stdout",
          "text": [
            "Evaluating MAE of algorithm SVD on 5 split(s).\n",
            "\n",
            "                  Fold 1  Fold 2  Fold 3  Fold 4  Fold 5  Mean    Std     \n",
            "MAE (testset)     0.7374  0.7347  0.7394  0.7361  0.7382  0.7372  0.0016  \n",
            "Fit time          2.96    2.06    1.46    1.81    2.01    2.06    0.50    \n",
            "Test time         0.42    0.14    0.15    0.19    0.21    0.22    0.10    \n",
            "Computing the msd similarity matrix...\n",
            "Done computing similarity matrix.\n",
            "Computing the msd similarity matrix...\n",
            "Done computing similarity matrix.\n",
            "Computing the msd similarity matrix...\n",
            "Done computing similarity matrix.\n",
            "Computing the msd similarity matrix...\n",
            "Done computing similarity matrix.\n",
            "Computing the msd similarity matrix...\n",
            "Done computing similarity matrix.\n",
            "Evaluating MAE of algorithm KNNBasic on 5 split(s).\n",
            "\n",
            "                  Fold 1  Fold 2  Fold 3  Fold 4  Fold 5  Mean    Std     \n",
            "MAE (testset)     0.7716  0.7718  0.7708  0.7764  0.7726  0.7726  0.0020  \n",
            "Fit time          0.38    0.42    0.40    0.40    0.36    0.39    0.02    \n",
            "Test time         4.32    3.29    4.43    3.20    3.24    3.70    0.56    \n"
          ]
        }
      ]
    },
    {
      "cell_type": "code",
      "source": [
        "# Обчислення середнього значення MAE\n",
        "mae_svd = sum(cv_svd['test_mae']) / len(cv_svd['test_mae'])\n",
        "mae_knn = sum(cv_knn['test_mae']) / len(cv_knn['test_mae'])\n",
        "\n",
        "print(f\"MAE для SVD: {mae_svd}\")\n",
        "print(f\"MAE для KNN: {mae_knn}\")\n",
        "\n",
        "# Вибір найкращого алгоритму\n",
        "best_algo = algo_svd if mae_svd < mae_knn else algo_knn\n",
        "print(f\"Best algorythm: {'SVD' if best_algo == algo_svd else 'KNNBasic'}\")\n"
      ],
      "metadata": {
        "colab": {
          "base_uri": "https://localhost:8080/"
        },
        "id": "zwqySkg0dnI-",
        "outputId": "6bb4abf5-89c0-4b79-ea1f-dcb51567ccbc"
      },
      "execution_count": 18,
      "outputs": [
        {
          "output_type": "stream",
          "name": "stdout",
          "text": [
            "MAE для SVD: 0.7371549125059766\n",
            "MAE для KNN: 0.7726441354238547\n",
            "Best algorythm: SVD\n"
          ]
        }
      ]
    },
    {
      "cell_type": "code",
      "source": [
        "trainset = data.build_full_trainset()\n",
        "best_algo.fit(trainset)"
      ],
      "metadata": {
        "colab": {
          "base_uri": "https://localhost:8080/"
        },
        "id": "6Ib34haKgAR2",
        "outputId": "79a9509f-abbf-49c4-a78d-25af7c3bcb9c"
      },
      "execution_count": 10,
      "outputs": [
        {
          "output_type": "execute_result",
          "data": {
            "text/plain": [
              "<surprise.prediction_algorithms.matrix_factorization.SVD at 0x79e73be92f50>"
            ]
          },
          "metadata": {},
          "execution_count": 10
        }
      ]
    },
    {
      "cell_type": "code",
      "source": [
        "# Отримання рекомендацій для користувача (наприклад, користувач з ID 50)\n",
        "user_id = str(50)\n",
        "items = df['item'].unique()\n",
        "\n",
        "# Фільми, які користувач ще не оцінив\n",
        "items_to_rate = [item for item in items if not trainset.knows_item(item)]\n",
        "\n",
        "# Прогнозування рейтингів та сортування за значенням\n",
        "predictions = [best_algo.predict(user_id, item) for item in items_to_rate]\n",
        "recommendations = sorted(predictions, key=lambda x: x.est, reverse=True)[:10]\n",
        "\n",
        "# Виведення топ-10 рекомендацій\n",
        "print(\"Рекомендовані фільми для користувача 196:\")\n",
        "for rec in recommendations:\n",
        "    print(f\"Фільм ID: {rec.iid}, Прогнозований рейтинг: {rec.est}\")"
      ],
      "metadata": {
        "colab": {
          "base_uri": "https://localhost:8080/"
        },
        "id": "GBcrvqJagYvO",
        "outputId": "fc71d07e-6d45-46e8-cb37-3bb4f02bf565"
      },
      "execution_count": 11,
      "outputs": [
        {
          "output_type": "stream",
          "name": "stdout",
          "text": [
            "Рекомендовані фільми для користувача 196:\n",
            "Фільм ID: 483, Прогнозований рейтинг: 4.676951948508005\n",
            "Фільм ID: 187, Прогнозований рейтинг: 4.502283593722947\n",
            "Фільм ID: 408, Прогнозований рейтинг: 4.478504794249189\n",
            "Фільм ID: 12, Прогнозований рейтинг: 4.452236648770499\n",
            "Фільм ID: 50, Прогнозований рейтинг: 4.4386071293112135\n",
            "Фільм ID: 56, Прогнозований рейтинг: 4.4128058773938195\n",
            "Фільм ID: 114, Прогнозований рейтинг: 4.397550483616123\n",
            "Фільм ID: 45, Прогнозований рейтинг: 4.393208713577024\n",
            "Фільм ID: 251, Прогнозований рейтинг: 4.392025017024007\n",
            "Фільм ID: 302, Прогнозований рейтинг: 4.391888408426491\n"
          ]
        }
      ]
    },
    {
      "cell_type": "markdown",
      "source": [
        "Завдання 2"
      ],
      "metadata": {
        "id": "A7DByLeGyqJA"
      }
    },
    {
      "cell_type": "code",
      "source": [
        "from surprise import Dataset, Reader, SlopeOne\n",
        "from surprise.model_selection import train_test_split\n",
        "from surprise import accuracy\n",
        "\n",
        "# Load the MovieLens 100k dataset\n",
        "data = Dataset.load_builtin('ml-100k')\n",
        "\n",
        "# Split the dataset into training and testing sets\n",
        "trainset, testset = train_test_split(data, test_size=0.2)\n",
        "\n",
        "algo = SlopeOne()\n",
        "algo.fit(trainset)\n",
        "predictions = algo.test(testset)\n",
        "\n",
        "rmse = accuracy.rmse(predictions)\n",
        "\n",
        "from collections import defaultdict\n",
        "\n",
        "def get_top_n(predictions, n=10):\n",
        "    top_n = defaultdict(list)\n",
        "    for uid, iid, true_r, est, _ in predictions:\n",
        "        top_n[uid].append((iid, est))\n",
        "\n",
        "    # Sort the predicted ratings for each user and get the top N\n",
        "    for uid, user_ratings in top_n.items():\n",
        "        user_ratings.sort(key=lambda x: x[1], reverse=True)\n",
        "        top_n[uid] = user_ratings[:n]\n",
        "\n",
        "    return top_n\n",
        "\n",
        "top_n = get_top_n(predictions, n=10)\n",
        "\n",
        "\n",
        "user_id = '196'\n",
        "print(f\"Top 10 recommendations for user {user_id}:\")\n",
        "for iid, rating in top_n[user_id]:\n",
        "    print(f\"Movie ID: {iid}, Predicted Rating: {rating:.2f}\")"
      ],
      "metadata": {
        "colab": {
          "base_uri": "https://localhost:8080/"
        },
        "id": "AkOb3Cve2jXk",
        "outputId": "f87af17b-7e78-475d-fae9-e9ad79534363"
      },
      "execution_count": 17,
      "outputs": [
        {
          "output_type": "stream",
          "name": "stdout",
          "text": [
            "RMSE: 0.9493\n",
            "Top 10 recommendations for user 196:\n",
            "Movie ID: 306, Predicted Rating: 4.11\n",
            "Movie ID: 269, Predicted Rating: 4.09\n",
            "Movie ID: 116, Predicted Rating: 4.07\n",
            "Movie ID: 257, Predicted Rating: 3.96\n",
            "Movie ID: 13, Predicted Rating: 3.67\n",
            "Movie ID: 66, Predicted Rating: 3.67\n",
            "Movie ID: 287, Predicted Rating: 3.67\n",
            "Movie ID: 762, Predicted Rating: 3.43\n",
            "Movie ID: 108, Predicted Rating: 3.40\n",
            "Movie ID: 94, Predicted Rating: 3.26\n"
          ]
        }
      ]
    },
    {
      "cell_type": "markdown",
      "source": [
        "The name \"Slope One\" comes from the linear relationship between the ratings of items. The algorithm assumes that the difference between the ratings for any two items remains consistent across users.\n",
        "RMSE measures the average difference between values predicted by a model and the actual values. the model is considered to be good at predicting when the RMSE is 0.8 or higher. in this case the RMSE is 0.9493 which is a good result and means that the model is capable of making descent predictions for a specific user/"
      ],
      "metadata": {
        "id": "ce2BXTyJ3HjO"
      }
    }
  ]
}